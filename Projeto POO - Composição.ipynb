{
 "cells": [
  {
   "cell_type": "markdown",
   "id": "6e72c9a0",
   "metadata": {},
   "source": [
    "# Composição\n",
    "\n",
    "Vamos imaginar que, além dos dados do aluno, você queira guardar informações sobre o curso que ele faz. Nesse caso, você pode criar uma classe Curso e usá-la como um atributo da classe Aluno.\n",
    "\n",
    "1. Criar uma nova classe Curso:"
   ]
  },
  {
   "cell_type": "code",
   "execution_count": 1,
   "id": "14237b71",
   "metadata": {},
   "outputs": [],
   "source": [
    "class Curso:\n",
    "    def __init__(self, nome, duracao):\n",
    "        self.nome = nome\n",
    "        self.duracao = duracao  # em semestres\n",
    "\n",
    "    def descricao(self):\n",
    "        return f\"Curso de {self.nome}, duração de {self.duracao} semestres.\"\n"
   ]
  },
  {
   "cell_type": "markdown",
   "id": "6513d481",
   "metadata": {},
   "source": [
    "2. Modificar a classe Aluno para receber um curso como objeto:"
   ]
  },
  {
   "cell_type": "code",
   "execution_count": 2,
   "id": "299d8c1a",
   "metadata": {},
   "outputs": [],
   "source": [
    "class Aluno:\n",
    "    def __init__(self, nome, matricula, curso):\n",
    "        # Atributos privados:\n",
    "        self.__nome = None \n",
    "        self.__matricula = None\n",
    "        self.__notas = []\n",
    "        self.curso = curso  # composição: o aluno tem um curso\n",
    "\n",
    "        self.set_nome(nome)\n",
    "        self.set_matricula(matricula)\n",
    "\n",
    "    # Getter para o nome:\n",
    "    def get_nome(self):\n",
    "        return self.__nome\n",
    "    \n",
    "    # Setter para o nome, com validação: não pode ser vazio ou conter apenas espaços\n",
    "    def set_nome(self, nome):\n",
    "        if nome: # Verifica se o nome não é vazio ou apenas espaços\n",
    "            self.__nome = nome\n",
    "        else:\n",
    "            print(\"Nome inválido. Por favor, insira um nome válido.\")\n",
    "\n",
    "    # Getter para a matrícula\n",
    "    def get_matricula(self):\n",
    "        return self.__matricula\n",
    "\n",
    "    # Setter para matrícula com validação: número entre 8 e 10 dígitos\n",
    "    def set_matricula(self, matricula):\n",
    "        if matricula.isdigit() and 8 <= len(matricula) <= 10:\n",
    "            self.__matricula = matricula\n",
    "        else:\n",
    "            print(\"Matrícula inválida. Deve conter entre 8 e 10 dígitos numéricos.\")\n",
    "\n",
    "    def adicionar_nota(self, nota):\n",
    "        if 0 <= nota <= 10:\n",
    "            self.__notas.append(nota)\n",
    "        else:\n",
    "            print(\"Nota inválida!\")\n",
    "\n",
    "    def calcular_media(self): # Retorna a média das notas do aluno ou 0 se não houver notas.\n",
    "        if len(self.__notas) == 0:\n",
    "            return 0\n",
    "        return sum(self.__notas) / len(self.__notas)\n",
    "    \n",
    "    def mostrar_dados(self):\n",
    "        print(f\"Nome: {self.get_nome()}\")\n",
    "        print(f\"Matrícula: {self.get_matricula()}\")\n",
    "        print(f\"Média: {self.calcular_media():.2f}\")\n",
    "        print(self.curso.descricao())\n",
    "\n",
    "    def realizar_atividade(self):\n",
    "        print(\"Atividade genérica para alunos.\")\n"
   ]
  },
  {
   "cell_type": "code",
   "execution_count": 3,
   "id": "4b4e5524",
   "metadata": {},
   "outputs": [],
   "source": [
    "class AlunoIntegrado(Aluno):\n",
    "    def __init__(self, nome, matricula, curso):\n",
    "        super().__init__(nome, matricula, curso)\n",
    "        self.nome = nome\n",
    "\n",
    "    def realizar_atividade(self):\n",
    "        print(f\"{self.nome} (Integrado) está participando de uma aula prática no laboratório.\")\n",
    "\n",
    "class AlunoSubsequente(Aluno):\n",
    "    def __init__(self, nome, matricula, curso):\n",
    "        super().__init__(nome, matricula, curso)\n",
    "        self.nome = nome\n",
    "\n",
    "    def realizar_atividade(self):\n",
    "        print(f\"{self.nome} (Subsequente) está fazendo estágio supervisionado.\")\n",
    "\n",
    "class AlunoGraduacao(Aluno):\n",
    "    def __init__(self, nome, matricula, curso):\n",
    "        super().__init__(nome, matricula, curso)\n",
    "        self.nome = nome\n",
    "        \n",
    "    def realizar_atividade(self):\n",
    "        print(f\"{self.nome} (Graduação) está escrevendo seu trabalho de conclusão de curso (TCC).\")\n",
    "\n",
    "class AlunoPosGraduacao(Aluno):\n",
    "    def __init__(self, nome, matricula, curso):\n",
    "        super().__init__(nome, matricula, curso)\n",
    "        self.nome = nome\n",
    "\n",
    "    def realizar_atividade(self):\n",
    "        print(f\"{self.nome} (Pós-Graduação) está realizando pesquisa acadêmica com seu orientador.\")"
   ]
  },
  {
   "cell_type": "code",
   "execution_count": 4,
   "id": "a0ff2256",
   "metadata": {},
   "outputs": [],
   "source": [
    "# Criando os cursos\n",
    "curso0 = Curso(\"Técnico em Informática\", 6)\n",
    "curso1 = Curso(\"Técnico em Agropecuária\", 2)\n",
    "curso2 = Curso(\"Licenciatura em Informática\", 8)\n",
    "curso3 = Curso(\"Mestrado em Educação no Campo\", 4)"
   ]
  },
  {
   "cell_type": "code",
   "execution_count": 5,
   "id": "a986767a",
   "metadata": {},
   "outputs": [],
   "source": [
    "# Criando lista de alunos com diferentes tipos\n",
    "alunos = [\n",
    "    AlunoIntegrado(\"Ana\", \"12345678\", curso0),\n",
    "    AlunoSubsequente(\"Bruno\", \"23456789\", curso1),\n",
    "    AlunoGraduacao(\"Carla\", \"34567890\", curso2),\n",
    "    AlunoPosGraduacao(\"Diego\", \"45678901\", curso3)\n",
    "]"
   ]
  },
  {
   "cell_type": "code",
   "execution_count": 9,
   "id": "25246ba7",
   "metadata": {},
   "outputs": [
    {
     "name": "stdout",
     "output_type": "stream",
     "text": [
      "\n",
      "Adicionando notas para Ana:\n"
     ]
    },
    {
     "ename": "ValueError",
     "evalue": "could not convert string to float: ''",
     "output_type": "error",
     "traceback": [
      "\u001b[31m---------------------------------------------------------------------------\u001b[39m",
      "\u001b[31mValueError\u001b[39m                                Traceback (most recent call last)",
      "\u001b[36mCell\u001b[39m\u001b[36m \u001b[39m\u001b[32mIn[9]\u001b[39m\u001b[32m, line 4\u001b[39m\n\u001b[32m      2\u001b[39m \u001b[38;5;28mprint\u001b[39m(\u001b[33mf\u001b[39m\u001b[33m\"\u001b[39m\u001b[38;5;130;01m\\n\u001b[39;00m\u001b[33mAdicionando notas para \u001b[39m\u001b[38;5;132;01m{\u001b[39;00maluno.get_nome()\u001b[38;5;132;01m}\u001b[39;00m\u001b[33m:\u001b[39m\u001b[33m\"\u001b[39m)\n\u001b[32m      3\u001b[39m \u001b[38;5;28;01mfor\u001b[39;00m i \u001b[38;5;129;01min\u001b[39;00m \u001b[38;5;28mrange\u001b[39m(\u001b[32m2\u001b[39m):  \u001b[38;5;66;03m# Adiciona 2 notas por aluno\u001b[39;00m\n\u001b[32m----> \u001b[39m\u001b[32m4\u001b[39m     nota = \u001b[38;5;28;43mfloat\u001b[39;49m\u001b[43m(\u001b[49m\u001b[38;5;28;43minput\u001b[39;49m\u001b[43m(\u001b[49m\u001b[33;43mf\u001b[39;49m\u001b[33;43m\"\u001b[39;49m\u001b[33;43mDigite a nota \u001b[39;49m\u001b[38;5;132;43;01m{\u001b[39;49;00m\u001b[43mi\u001b[49m\u001b[43m+\u001b[49m\u001b[32;43m1\u001b[39;49m\u001b[38;5;132;43;01m}\u001b[39;49;00m\u001b[33;43m: \u001b[39;49m\u001b[33;43m\"\u001b[39;49m\u001b[43m)\u001b[49m\u001b[43m)\u001b[49m\n\u001b[32m      5\u001b[39m     aluno.adicionar_nota(nota)\n",
      "\u001b[31mValueError\u001b[39m: could not convert string to float: ''"
     ]
    }
   ],
   "source": [
    "for aluno in alunos:\n",
    "    print(f\"\\nAdicionando notas para {aluno.get_nome()}:\")\n",
    "    for i in range(2):  # Adiciona 2 notas por aluno\n",
    "        nota = float(input(f\"Digite a nota {i+1}: \"))\n",
    "        aluno.adicionar_nota(nota)"
   ]
  },
  {
   "cell_type": "code",
   "execution_count": 7,
   "id": "4b54c38e",
   "metadata": {},
   "outputs": [
    {
     "name": "stdout",
     "output_type": "stream",
     "text": [
      "Nome: Ana\n",
      "Matrícula: 12345678\n",
      "Média: 9.50\n",
      "Curso de Técnico em Informática, duração de 6 semestres.\n",
      "Ana (Integrado) está participando de uma aula prática no laboratório.\n",
      "----------------------------------------\n",
      "Nome: Bruno\n",
      "Matrícula: 23456789\n",
      "Média: 7.50\n",
      "Curso de Técnico em Agropecuária, duração de 2 semestres.\n",
      "Bruno (Subsequente) está fazendo estágio supervisionado.\n",
      "----------------------------------------\n",
      "Nome: Carla\n",
      "Matrícula: 34567890\n",
      "Média: 6.50\n",
      "Curso de Licenciatura em Informática, duração de 8 semestres.\n",
      "Carla (Graduação) está escrevendo seu trabalho de conclusão de curso (TCC).\n",
      "----------------------------------------\n",
      "Nome: Diego\n",
      "Matrícula: 45678901\n",
      "Média: 8.50\n",
      "Curso de Mestrado em Educação no Campo, duração de 4 semestres.\n",
      "Diego (Pós-Graduação) está realizando pesquisa acadêmica com seu orientador.\n",
      "----------------------------------------\n"
     ]
    }
   ],
   "source": [
    "# Demonstrando polimorfismo\n",
    "for aluno in alunos:\n",
    "    aluno.mostrar_dados()\n",
    "    aluno.realizar_atividade()\n",
    "    print(\"-\" * 40)"
   ]
  },
  {
   "cell_type": "markdown",
   "id": "eb2246df",
   "metadata": {},
   "source": [
    "# Tratamento de Exceções\n",
    "\n",
    "Entrada de dados e Tratamento de Exceções com try/except\n",
    "\n",
    "try:\n",
    "\n",
    "        # bloco que pode gerar erro\n",
    "\n",
    "except TipoDeErro:\n",
    "\n",
    "        # tratamento do erro"
   ]
  },
  {
   "cell_type": "code",
   "execution_count": 10,
   "id": "2cd2205b",
   "metadata": {},
   "outputs": [
    {
     "name": "stdout",
     "output_type": "stream",
     "text": [
      "\n",
      "Adicionando notas para Ana:\n",
      "⚠️ Entrada vazia. Digite uma nota válida.\n",
      "⚠️ A nota deve estar entre 0 e 10.\n",
      "⚠️ Valor inválido. Digite um número.\n",
      "⚠️ Entrada vazia. Digite uma nota válida.\n",
      "\n",
      "Adicionando notas para Bruno:\n"
     ]
    },
    {
     "ename": "KeyboardInterrupt",
     "evalue": "Interrupted by user",
     "output_type": "error",
     "traceback": [
      "\u001b[31m---------------------------------------------------------------------------\u001b[39m",
      "\u001b[31mKeyboardInterrupt\u001b[39m                         Traceback (most recent call last)",
      "\u001b[36mCell\u001b[39m\u001b[36m \u001b[39m\u001b[32mIn[10]\u001b[39m\u001b[32m, line 5\u001b[39m\n\u001b[32m      3\u001b[39m \u001b[38;5;28;01mfor\u001b[39;00m i \u001b[38;5;129;01min\u001b[39;00m \u001b[38;5;28mrange\u001b[39m(\u001b[32m2\u001b[39m):\n\u001b[32m      4\u001b[39m     \u001b[38;5;28;01mwhile\u001b[39;00m \u001b[38;5;28;01mTrue\u001b[39;00m:\n\u001b[32m----> \u001b[39m\u001b[32m5\u001b[39m         entrada = \u001b[38;5;28;43minput\u001b[39;49m\u001b[43m(\u001b[49m\u001b[33;43mf\u001b[39;49m\u001b[33;43m\"\u001b[39;49m\u001b[33;43mDigite a nota \u001b[39;49m\u001b[38;5;132;43;01m{\u001b[39;49;00m\u001b[43mi\u001b[49m\u001b[43m+\u001b[49m\u001b[32;43m1\u001b[39;49m\u001b[38;5;132;43;01m}\u001b[39;49;00m\u001b[33;43m para \u001b[39;49m\u001b[38;5;132;43;01m{\u001b[39;49;00m\u001b[43maluno\u001b[49m\u001b[43m.\u001b[49m\u001b[43mget_nome\u001b[49m\u001b[43m(\u001b[49m\u001b[43m)\u001b[49m\u001b[38;5;132;43;01m}\u001b[39;49;00m\u001b[33;43m: \u001b[39;49m\u001b[33;43m\"\u001b[39;49m\u001b[43m)\u001b[49m\n\u001b[32m      6\u001b[39m         \u001b[38;5;28;01mif\u001b[39;00m entrada.strip() == \u001b[33m\"\u001b[39m\u001b[33m\"\u001b[39m:\n\u001b[32m      7\u001b[39m             \u001b[38;5;28mprint\u001b[39m(\u001b[33m\"\u001b[39m\u001b[33m⚠️ Entrada vazia. Digite uma nota válida.\u001b[39m\u001b[33m\"\u001b[39m)\n",
      "\u001b[36mFile \u001b[39m\u001b[32m~\\AppData\\Roaming\\Python\\Python313\\site-packages\\ipykernel\\kernelbase.py:1282\u001b[39m, in \u001b[36mKernel.raw_input\u001b[39m\u001b[34m(self, prompt)\u001b[39m\n\u001b[32m   1280\u001b[39m     msg = \u001b[33m\"\u001b[39m\u001b[33mraw_input was called, but this frontend does not support input requests.\u001b[39m\u001b[33m\"\u001b[39m\n\u001b[32m   1281\u001b[39m     \u001b[38;5;28;01mraise\u001b[39;00m StdinNotImplementedError(msg)\n\u001b[32m-> \u001b[39m\u001b[32m1282\u001b[39m \u001b[38;5;28;01mreturn\u001b[39;00m \u001b[38;5;28;43mself\u001b[39;49m\u001b[43m.\u001b[49m\u001b[43m_input_request\u001b[49m\u001b[43m(\u001b[49m\n\u001b[32m   1283\u001b[39m \u001b[43m    \u001b[49m\u001b[38;5;28;43mstr\u001b[39;49m\u001b[43m(\u001b[49m\u001b[43mprompt\u001b[49m\u001b[43m)\u001b[49m\u001b[43m,\u001b[49m\n\u001b[32m   1284\u001b[39m \u001b[43m    \u001b[49m\u001b[38;5;28;43mself\u001b[39;49m\u001b[43m.\u001b[49m\u001b[43m_parent_ident\u001b[49m\u001b[43m[\u001b[49m\u001b[33;43m\"\u001b[39;49m\u001b[33;43mshell\u001b[39;49m\u001b[33;43m\"\u001b[39;49m\u001b[43m]\u001b[49m\u001b[43m,\u001b[49m\n\u001b[32m   1285\u001b[39m \u001b[43m    \u001b[49m\u001b[38;5;28;43mself\u001b[39;49m\u001b[43m.\u001b[49m\u001b[43mget_parent\u001b[49m\u001b[43m(\u001b[49m\u001b[33;43m\"\u001b[39;49m\u001b[33;43mshell\u001b[39;49m\u001b[33;43m\"\u001b[39;49m\u001b[43m)\u001b[49m\u001b[43m,\u001b[49m\n\u001b[32m   1286\u001b[39m \u001b[43m    \u001b[49m\u001b[43mpassword\u001b[49m\u001b[43m=\u001b[49m\u001b[38;5;28;43;01mFalse\u001b[39;49;00m\u001b[43m,\u001b[49m\n\u001b[32m   1287\u001b[39m \u001b[43m\u001b[49m\u001b[43m)\u001b[49m\n",
      "\u001b[36mFile \u001b[39m\u001b[32m~\\AppData\\Roaming\\Python\\Python313\\site-packages\\ipykernel\\kernelbase.py:1325\u001b[39m, in \u001b[36mKernel._input_request\u001b[39m\u001b[34m(self, prompt, ident, parent, password)\u001b[39m\n\u001b[32m   1322\u001b[39m \u001b[38;5;28;01mexcept\u001b[39;00m \u001b[38;5;167;01mKeyboardInterrupt\u001b[39;00m:\n\u001b[32m   1323\u001b[39m     \u001b[38;5;66;03m# re-raise KeyboardInterrupt, to truncate traceback\u001b[39;00m\n\u001b[32m   1324\u001b[39m     msg = \u001b[33m\"\u001b[39m\u001b[33mInterrupted by user\u001b[39m\u001b[33m\"\u001b[39m\n\u001b[32m-> \u001b[39m\u001b[32m1325\u001b[39m     \u001b[38;5;28;01mraise\u001b[39;00m \u001b[38;5;167;01mKeyboardInterrupt\u001b[39;00m(msg) \u001b[38;5;28;01mfrom\u001b[39;00m\u001b[38;5;250m \u001b[39m\u001b[38;5;28;01mNone\u001b[39;00m\n\u001b[32m   1326\u001b[39m \u001b[38;5;28;01mexcept\u001b[39;00m \u001b[38;5;167;01mException\u001b[39;00m:\n\u001b[32m   1327\u001b[39m     \u001b[38;5;28mself\u001b[39m.log.warning(\u001b[33m\"\u001b[39m\u001b[33mInvalid Message:\u001b[39m\u001b[33m\"\u001b[39m, exc_info=\u001b[38;5;28;01mTrue\u001b[39;00m)\n",
      "\u001b[31mKeyboardInterrupt\u001b[39m: Interrupted by user"
     ]
    }
   ],
   "source": [
    "for aluno in alunos:\n",
    "    print(f\"\\nAdicionando notas para {aluno.get_nome()}:\")\n",
    "    for i in range(2):\n",
    "        while True:\n",
    "            entrada = input(f\"Digite a nota {i+1} para {aluno.get_nome()}: \")\n",
    "            if entrada.strip() == \"\":\n",
    "                print(\"⚠️ Entrada vazia. Digite uma nota válida.\")\n",
    "                continue\n",
    "            try:\n",
    "                nota = float(entrada)\n",
    "                if 0 <= nota <= 10:\n",
    "                    aluno.adicionar_nota(nota)\n",
    "                    break\n",
    "                else:\n",
    "                    print(\"⚠️ A nota deve estar entre 0 e 10.\")\n",
    "            except ValueError:\n",
    "                print(\"⚠️ Valor inválido. Digite um número.\")\n"
   ]
  }
 ],
 "metadata": {
  "kernelspec": {
   "display_name": "Python 3",
   "language": "python",
   "name": "python3"
  },
  "language_info": {
   "codemirror_mode": {
    "name": "ipython",
    "version": 3
   },
   "file_extension": ".py",
   "mimetype": "text/x-python",
   "name": "python",
   "nbconvert_exporter": "python",
   "pygments_lexer": "ipython3",
   "version": "3.13.3"
  }
 },
 "nbformat": 4,
 "nbformat_minor": 5
}
